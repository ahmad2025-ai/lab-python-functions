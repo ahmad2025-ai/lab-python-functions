{
 "cells": [
  {
   "cell_type": "code",
   "execution_count": 1,
   "id": "7a18e817-6175-4e80-a161-52032115e6ff",
   "metadata": {},
   "outputs": [
    {
     "name": "stdin",
     "output_type": "stream",
     "text": [
      "Enter the quantity for apple:  apple\n"
     ]
    },
    {
     "name": "stdout",
     "output_type": "stream",
     "text": [
      "Invalid input. Please enter a number for the quantity.\n"
     ]
    },
    {
     "name": "stdin",
     "output_type": "stream",
     "text": [
      "Enter the quantity for apple:  100\n",
      "Enter the quantity for banana:  200\n",
      "Enter the quantity for orange:  300\n",
      "Enter the quantity for grapes:  400\n",
      "Enter the quantity for watermelon:  500\n",
      "Enter the name of a product that a customer wants to order:  apple\n"
     ]
    },
    {
     "name": "stdout",
     "output_type": "stream",
     "text": [
      "apple has been added to your order.\n"
     ]
    },
    {
     "name": "stdin",
     "output_type": "stream",
     "text": [
      "Do you want to add another product? (yes/no):  banana\n"
     ]
    },
    {
     "name": "stdout",
     "output_type": "stream",
     "text": [
      "One apple has been deducted from the inventory.\n",
      "\n",
      "Total products ordered: 99\n",
      "Percentage of unique products ordered: 20.00%\n",
      "\n",
      "Updated inventory:\n",
      "Apple: 99\n",
      "Banana: 200\n",
      "Orange: 300\n",
      "Grapes: 400\n",
      "Watermelon: 500\n"
     ]
    }
   ],
   "source": [
    "def initialize_inventory(products):\n",
    "    \"\"\"\n",
    "    Initializes the inventory dictionary with quantities based on user input.\n",
    "    \n",
    "    Arguments:\n",
    "    products -- list of product names (strings)\n",
    "    \n",
    "    Returns:\n",
    "    inventory -- a dictionary where the product name is the key, and the quantity is the value\n",
    "    \"\"\"\n",
    "    inventory = {}\n",
    "    for product in products:\n",
    "        while True:\n",
    "            try:\n",
    "                quantity = int(input(f\"Enter the quantity for {product}: \"))\n",
    "                if quantity < 0:\n",
    "                    print(\"Quantity cannot be negative. Please enter a valid number.\")\n",
    "                else:\n",
    "                    inventory[product] = quantity\n",
    "                    break\n",
    "            except ValueError:\n",
    "                print(\"Invalid input. Please enter a number for the quantity.\")\n",
    "    return inventory\n",
    "\n",
    "def get_customer_orders():\n",
    "    \"\"\"\n",
    "    Prompts the user to enter the names of products they want to order.\n",
    "    \n",
    "    Returns:\n",
    "    customer_orders -- a set of unique products that the customer wants to order\n",
    "    \"\"\"\n",
    "    customer_orders = set()\n",
    "\n",
    "    while True:\n",
    "        product = input(\"Enter the name of a product that a customer wants to order: \").strip().lower()\n",
    "        if product:\n",
    "            customer_orders.add(product)\n",
    "            print(f\"{product} has been added to your order.\")\n",
    "        \n",
    "        another_product = input(\"Do you want to add another product? (yes/no): \").strip().lower()\n",
    "        if another_product != 'yes':\n",
    "            break\n",
    "\n",
    "    return customer_orders\n",
    "\n",
    "def update_inventory(customer_orders, inventory):\n",
    "    \"\"\"\n",
    "    Updates the inventory based on the customer orders.\n",
    "    \n",
    "    Arguments:\n",
    "    customer_orders -- a set of products that the customer has ordered\n",
    "    inventory -- the inventory dictionary\n",
    "    \n",
    "    Modifies:\n",
    "    inventory -- updates the quantities of ordered products\n",
    "    \"\"\"\n",
    "    for ordered_product in customer_orders:\n",
    "        if ordered_product in inventory and inventory[ordered_product] > 0:\n",
    "            inventory[ordered_product] -= 1\n",
    "            print(f\"One {ordered_product} has been deducted from the inventory.\")\n",
    "        else:\n",
    "            print(f\"Sorry, {ordered_product} is out of stock or not available.\")\n",
    "\n",
    "def calculate_order_statistics(customer_orders, inventory):\n",
    "    \"\"\"\n",
    "    Calculates the order statistics: total products ordered and percentage of unique products ordered.\n",
    "    \n",
    "    Arguments:\n",
    "    customer_orders -- a set of unique products that the customer has ordered\n",
    "    inventory -- the inventory dictionary\n",
    "    \n",
    "    Returns:\n",
    "    total_ordered -- total number of products ordered\n",
    "    unique_ordered_percentage -- percentage of unique products ordered\n",
    "    \"\"\"\n",
    "    total_ordered = sum(inventory[product] for product in customer_orders if product in inventory)\n",
    "    unique_ordered_percentage = (len(customer_orders) / len(inventory)) * 100 if len(inventory) > 0 else 0\n",
    "    \n",
    "    return total_ordered, unique_ordered_percentage\n",
    "\n",
    "def print_order_statistics(order_statistics):\n",
    "    \"\"\"\n",
    "    Prints the order statistics: total products ordered and percentage of unique products ordered.\n",
    "    \n",
    "    Arguments:\n",
    "    order_statistics -- a tuple containing total_ordered and unique_ordered_percentage\n",
    "    \"\"\"\n",
    "    total_ordered, unique_ordered_percentage = order_statistics\n",
    "    print(f\"\\nTotal products ordered: {total_ordered}\")\n",
    "    print(f\"Percentage of unique products ordered: {unique_ordered_percentage:.2f}%\")\n",
    "\n",
    "def print_updated_inventory(inventory):\n",
    "    \"\"\"\n",
    "    Prints the updated inventory after processing the customer orders.\n",
    "    \n",
    "    Arguments:\n",
    "    inventory -- the updated inventory dictionary\n",
    "    \"\"\"\n",
    "    print(\"\\nUpdated inventory:\")\n",
    "    for product, quantity in inventory.items():\n",
    "        print(f\"{product.capitalize()}: {quantity}\")\n",
    "\n",
    "# Main program to execute the customer order management flow\n",
    "def main():\n",
    "    # Define product names\n",
    "    products = [\"apple\", \"banana\", \"orange\", \"grapes\", \"watermelon\"]\n",
    "    \n",
    "    # Initialize inventory\n",
    "    inventory = initialize_inventory(products)\n",
    "    \n",
    "    # Get customer orders\n",
    "    customer_orders = get_customer_orders()\n",
    "    \n",
    "    # Update inventory based on customer orders\n",
    "    update_inventory(customer_orders, inventory)\n",
    "    \n",
    "    # Calculate order statistics\n",
    "    order_statistics = calculate_order_statistics(customer_orders, inventory)\n",
    "    \n",
    "    # Print order statistics\n",
    "    print_order_statistics(order_statistics)\n",
    "    \n",
    "    # Print updated inventory\n",
    "    print_updated_inventory(inventory)\n",
    "\n",
    "# Execute the main program\n",
    "main()\n"
   ]
  },
  {
   "cell_type": "code",
   "execution_count": null,
   "id": "7e672af6-0e35-48f7-a6b1-dd8aeaf78b35",
   "metadata": {},
   "outputs": [],
   "source": []
  }
 ],
 "metadata": {
  "kernelspec": {
   "display_name": "Python 3 (ipykernel)",
   "language": "python",
   "name": "python3"
  },
  "language_info": {
   "codemirror_mode": {
    "name": "ipython",
    "version": 3
   },
   "file_extension": ".py",
   "mimetype": "text/x-python",
   "name": "python",
   "nbconvert_exporter": "python",
   "pygments_lexer": "ipython3",
   "version": "3.12.7"
  }
 },
 "nbformat": 4,
 "nbformat_minor": 5
}
