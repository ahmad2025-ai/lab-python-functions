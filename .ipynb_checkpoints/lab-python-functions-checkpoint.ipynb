{
 "cells": [
  {
   "cell_type": "markdown",
   "id": "25d7736c-ba17-4aff-b6bb-66eba20fbf4e",
   "metadata": {},
   "source": [
    "# Lab | Functions"
   ]
  },
  {
   "cell_type": "markdown",
   "id": "0c581062-8967-4d93-b06e-62833222f930",
   "metadata": {
    "tags": []
   },
   "source": [
    "## Exercise: Managing Customer Orders with Functions\n",
    "\n",
    "In the previous exercise, you improved the code for managing customer orders by using loops and flow control. Now, let's take it a step further and refactor the code by introducing functions.\n",
    "\n",
    "Follow the steps below to complete the exercise:\n",
    "\n",
    "1. Define a function named `initialize_inventory` that takes `products` as a parameter. Inside the function, implement the code for initializing the inventory dictionary using a loop and user input.\n",
    "\n",
    "2. Define a function named `get_customer_orders` that takes no parameters. Inside the function, implement the code for prompting the user to enter the product names using a loop. The function should return the `customer_orders` set.\n",
    "\n",
    "3. Define a function named `update_inventory` that takes `customer_orders` and `inventory` as parameters. Inside the function, implement the code for updating the inventory dictionary based on the customer orders.\n",
    "\n",
    "4. Define a function named `calculate_order_statistics` that takes `customer_orders` and `products` as parameters. Inside the function, implement the code for calculating the order statistics (total products ordered, and percentage of unique products ordered). The function should return these values.\n",
    "\n",
    "5. Define a function named `print_order_statistics` that takes `order_statistics` as a parameter. Inside the function, implement the code for printing the order statistics.\n",
    "\n",
    "6. Define a function named `print_updated_inventory` that takes `inventory` as a parameter. Inside the function, implement the code for printing the updated inventory.\n",
    "\n",
    "7. Call the functions in the appropriate sequence to execute the program and manage customer orders.\n",
    "\n",
    "Hints for functions:\n",
    "\n",
    "- Consider the input parameters required for each function and their return values.\n",
    "- Utilize function parameters and return values to transfer data between functions.\n",
    "- Test your functions individually to ensure they work correctly.\n",
    "\n",
    "\n"
   ]
  },
  {
   "cell_type": "code",
   "execution_count": 19,
   "id": "58d77aea-a951-49b1-8ca4-fda62df7e15d",
   "metadata": {},
   "outputs": [],
   "source": [
    "def initialize_inventory(products):\n",
    "    \"\"\"\n",
    "    Initializes the inventory dictionary from user input.\n",
    "    \n",
    "    Arguments:\n",
    "    products -- list of product names (strings)\n",
    "    \n",
    "    Returns:\n",
    "    inventory -- a dictionary where the product name is the key, and the quantity is the value\n",
    "    \"\"\"\n",
    "    inventory = {}\n",
    "    for product in products:\n",
    "        quantity = int(input(f\"Enter the quantity for {product}: \"))\n",
    "        inventory[product] = quantity\n",
    "    return inventory\n"
   ]
  },
  {
   "cell_type": "code",
   "execution_count": 21,
   "id": "53400f52-386f-4db0-80c3-bbd94206d9ef",
   "metadata": {},
   "outputs": [],
   "source": [
    "def get_customer_orders():\n",
    "    \"\"\"\n",
    "    Prompts the user to enter the names of products they want to order.\n",
    "    \n",
    "    Returns:\n",
    "    customer_orders -- a set of unique products that the customer wants to order\n",
    "    \"\"\"\n",
    "    customer_orders = set()\n",
    "    \n",
    "    while True:\n",
    "        product = input(\"Enter the name of a product that a customer wants to order: \").strip().lower()\n",
    "        \n",
    "        if product:\n",
    "            customer_orders.add(product)\n",
    "            print(f\"{product} has been added to your order.\")\n",
    "        \n",
    "        another_product = input(\"Do you want to add another product? (yes/no): \").strip().lower()\n",
    "        if another_product != 'yes':\n",
    "            break\n",
    "    \n",
    "    return customer_orders"
   ]
  },
  {
   "cell_type": "code",
   "execution_count": 23,
   "id": "2f180fba-e7c9-4e7f-97f3-1b2dc1a1704e",
   "metadata": {},
   "outputs": [],
   "source": [
    "def update_inventory(customer_orders, inventory):\n",
    "    \"\"\"\n",
    "    Updates the inventory based on the customer orders.\n",
    "    \n",
    "    Arguments:\n",
    "    customer_orders -- a set of products that the customer has ordered\n",
    "    inventory -- the inventory dictionary\n",
    "    \n",
    "    Modifies:\n",
    "    inventory -- updates the quantities of ordered products\n",
    "    \"\"\"\n",
    "    for ordered_product in customer_orders:\n",
    "        if ordered_product in inventory and inventory[ordered_product] > 0:\n",
    "            inventory[ordered_product] -= 1\n",
    "            print(f\"One {ordered_product} has been deducted from the inventory.\")\n",
    "        else:\n",
    "            print(f\"Sorry, {ordered_product} is out of stock or not available.\")"
   ]
  },
  {
   "cell_type": "code",
   "execution_count": 25,
   "id": "dd3e8e20-e635-404c-9097-1b49782eebf7",
   "metadata": {},
   "outputs": [],
   "source": [
    "def calculate_order_statistics(customer_orders, inventory):\n",
    "    \"\"\"\n",
    "    Calculates the order statistics: total products ordered and percentage of unique products ordered.\n",
    "    \n",
    "    Arguments:\n",
    "    customer_orders -- a set of unique products that the customer has ordered\n",
    "    inventory -- the inventory dictionary\n",
    "    \n",
    "    Returns:\n",
    "    total_ordered -- total number of products ordered\n",
    "    unique_ordered_percentage -- percentage of unique products ordered\n",
    "    \"\"\"\n",
    "    total_ordered = sum(inventory[product] for product in customer_orders if product in inventory)\n",
    "    unique_ordered_percentage = (len(customer_orders) / len(inventory)) * 100 if len(inventory) > 0 else 0\n",
    "    \n",
    "    return total_ordered, unique_ordered_percentage\n"
   ]
  },
  {
   "cell_type": "code",
   "execution_count": 27,
   "id": "26190b53-7eed-4515-9838-be5ceda2754a",
   "metadata": {},
   "outputs": [],
   "source": [
    "def print_order_statistics(order_statistics):\n",
    "    \"\"\"\n",
    "    Prints the order statistics: total products ordered and percentage of unique products ordered.\n",
    "    \n",
    "    Arguments:\n",
    "    order_statistics -- a tuple containing total_ordered and unique_ordered_percentage\n",
    "    \"\"\"\n",
    "    total_ordered, unique_ordered_percentage = order_statistics\n",
    "    print(f\"\\nTotal products ordered: {total_ordered}\")\n",
    "    print(f\"Percentage of unique products ordered: {unique_ordered_percentage:.2f}%\")"
   ]
  },
  {
   "cell_type": "code",
   "execution_count": 29,
   "id": "a0917669-83b9-49a3-a0fc-740973d416ef",
   "metadata": {},
   "outputs": [],
   "source": [
    "def print_updated_inventory(inventory):\n",
    "    \"\"\"\n",
    "    Prints the updated inventory after processing the customer orders.\n",
    "    \n",
    "    Arguments:\n",
    "    inventory -- the updated inventory dictionary\n",
    "    \"\"\"\n",
    "    print(\"\\nUpdated inventory:\")\n",
    "    for product, quantity in inventory.items():\n",
    "        print(f\"{product.capitalize()}: {quantity}\")"
   ]
  },
  {
   "cell_type": "code",
   "execution_count": 31,
   "id": "b15c127f-b722-4e29-b10c-d13f6f1b6d49",
   "metadata": {},
   "outputs": [
    {
     "name": "stdin",
     "output_type": "stream",
     "text": [
      "Enter the quantity for book:  50\n",
      "Enter the quantity for hat:  40\n",
      "Enter the quantity for keychain:  30\n",
      "Enter the quantity for t-shirt:  20\n",
      "Enter the quantity for mug:  10\n",
      "Enter the name of a product that a customer wants to order:  book\n"
     ]
    },
    {
     "name": "stdout",
     "output_type": "stream",
     "text": [
      "book has been added to your order.\n"
     ]
    },
    {
     "name": "stdin",
     "output_type": "stream",
     "text": [
      "Do you want to add another product? (yes/no):  no\n"
     ]
    },
    {
     "name": "stdout",
     "output_type": "stream",
     "text": [
      "One book has been deducted from the inventory.\n",
      "\n",
      "Total products ordered: 49\n",
      "Percentage of unique products ordered: 20.00%\n",
      "\n",
      "Updated inventory:\n",
      "Book: 49\n",
      "Hat: 40\n",
      "Keychain: 30\n",
      "T-shirt: 20\n",
      "Mug: 10\n"
     ]
    }
   ],
   "source": [
    "# Main program to execute the customer order management flow\n",
    "def main():\n",
    "    # Define product names\n",
    "    products = [\"book\", \"hat\", \"keychain\", \"t-shirt\", \"mug\"]\n",
    "    \n",
    "    # Initialize inventory\n",
    "    inventory = initialize_inventory(products)\n",
    "    \n",
    "    # Get customer orders\n",
    "    customer_orders = get_customer_orders()\n",
    "    \n",
    "    # Update inventory based on customer orders\n",
    "    update_inventory(customer_orders, inventory)\n",
    "    \n",
    "    # Calculate order statistics\n",
    "    order_statistics = calculate_order_statistics(customer_orders, inventory)\n",
    "    \n",
    "    # Print order statistics\n",
    "    print_order_statistics(order_statistics)\n",
    "    \n",
    "    # Print updated inventory\n",
    "    print_updated_inventory(inventory)\n",
    "\n",
    "# Execute the main program\n",
    "main()\n"
   ]
  },
  {
   "cell_type": "code",
   "execution_count": null,
   "id": "7240d190-964c-4d98-adf6-664336c64a6b",
   "metadata": {},
   "outputs": [],
   "source": []
  }
 ],
 "metadata": {
  "kernelspec": {
   "display_name": "Python 3 (ipykernel)",
   "language": "python",
   "name": "python3"
  },
  "language_info": {
   "codemirror_mode": {
    "name": "ipython",
    "version": 3
   },
   "file_extension": ".py",
   "mimetype": "text/x-python",
   "name": "python",
   "nbconvert_exporter": "python",
   "pygments_lexer": "ipython3",
   "version": "3.12.7"
  }
 },
 "nbformat": 4,
 "nbformat_minor": 5
}
